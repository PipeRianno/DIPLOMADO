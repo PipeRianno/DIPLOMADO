{
 "cells": [
  {
   "cell_type": "code",
   "execution_count": 1,
   "id": "102980e1",
   "metadata": {},
   "outputs": [
    {
     "ename": "ModuleNotFoundError",
     "evalue": "No module named 'streamlit'",
     "output_type": "error",
     "traceback": [
      "\u001b[31m---------------------------------------------------------------------------\u001b[39m",
      "\u001b[31mModuleNotFoundError\u001b[39m                       Traceback (most recent call last)",
      "\u001b[36mCell\u001b[39m\u001b[36m \u001b[39m\u001b[32mIn[1]\u001b[39m\u001b[32m, line 1\u001b[39m\n\u001b[32m----> \u001b[39m\u001b[32m1\u001b[39m \u001b[38;5;28;01mimport\u001b[39;00m\u001b[38;5;250m \u001b[39m\u001b[34;01mstreamlit\u001b[39;00m\u001b[38;5;250m \u001b[39m\u001b[38;5;28;01mas\u001b[39;00m\u001b[38;5;250m \u001b[39m\u001b[34;01mst\u001b[39;00m\n\u001b[32m      2\u001b[39m \u001b[38;5;28;01mimport\u001b[39;00m\u001b[38;5;250m \u001b[39m\u001b[34;01mpandas\u001b[39;00m\u001b[38;5;250m \u001b[39m\u001b[38;5;28;01mas\u001b[39;00m\u001b[38;5;250m \u001b[39m\u001b[34;01mpd\u001b[39;00m\n\u001b[32m      3\u001b[39m \u001b[38;5;28;01mimport\u001b[39;00m\u001b[38;5;250m \u001b[39m\u001b[34;01mrequests\u001b[39;00m\n",
      "\u001b[31mModuleNotFoundError\u001b[39m: No module named 'streamlit'"
     ]
    }
   ],
   "source": [
    "import streamlit as st\n",
    "import pandas as pd\n",
    "import requests\n",
    "import os\n",
    "\n",
    "# URL base de la API de Socrata (SECOP)\n",
    "BASE_URL = \"https://www.datos.gov.co/resource/rpmr-utcd.json\"\n",
    "\n",
    "# Ruta donde se guardarán los datos localmente\n",
    "DATA_PATH = \"data/secop.csv\"\n",
    "\n",
    "def download_data(limit: int = 50000) -> pd.DataFrame:\n",
    "    \"\"\"\n",
    "    Descarga datos desde la API de SECOP y devuelve un DataFrame.\n",
    "    También puede guardar localmente el archivo para futuras consultas.\n",
    "    \"\"\"\n",
    "    st.info(f\"⏳ Descargando datos... (máximo {limit} registros)\")\n",
    "    try:\n",
    "        response = requests.get(f\"{BASE_URL}?$limit={limit}\")\n",
    "        response.raise_for_status()\n",
    "        data = response.json()\n",
    "        df = pd.DataFrame(data)\n",
    "        \n",
    "        # Guardar localmente para no descargar cada vez\n",
    "        os.makedirs(\"data\", exist_ok=True)\n",
    "        df.to_csv(DATA_PATH, index=False)\n",
    "        \n",
    "        st.success(f\"✅ Datos descargados y guardados en '{DATA_PATH}'\")\n",
    "        return df\n",
    "    except requests.exceptions.RequestException as e:\n",
    "        st.error(f\"Error al descargar datos: {e}\")\n",
    "        return pd.DataFrame()\n",
    "\n",
    "def load_local_data() -> pd.DataFrame:\n",
    "    \"\"\"\n",
    "    Carga datos desde el CSV local si existe, para ahorrar tiempo.\n",
    "    \"\"\"\n",
    "    if os.path.exists(DATA_PATH):\n",
    "        st.info(\"📂 Cargando datos desde el archivo local...\")\n",
    "        return pd.read_csv(DATA_PATH)\n",
    "    else:\n",
    "        st.warning(\"⚠ No se encontró un archivo local, descargando datos...\")\n",
    "        return download_data()\n",
    "\n",
    "def show_data_tab():\n",
    "    \"\"\"\n",
    "    Pestaña de Streamlit para cargar y mostrar datos.\n",
    "    \"\"\"\n",
    "    st.title(\"📥 Carga de Datos - SECOP II\")\n",
    "    st.markdown(\n",
    "        \"En esta sección puedes cargar los datos del SECOP II, \"\n",
    "        \"ya sea desde un archivo local o descargándolos directamente de la API.\"\n",
    "    )\n",
    "    \n",
    "    opcion = st.radio(\"¿Cómo deseas cargar los datos?\", [\"Archivo local\", \"Descargar de API\"])\n",
    "    \n",
    "    if opcion == \"Archivo local\":\n",
    "        df = load_local_data()\n",
    "    else:\n",
    "        limit = st.slider(\"Cantidad de registros a descargar\", 1000, 100000, 50000, step=1000)\n",
    "        if st.button(\"Descargar datos\"):\n",
    "            df = download_data(limit)\n",
    "        else:\n",
    "            df = pd.DataFrame()\n",
    "    \n",
    "    if not df.empty:\n",
    "        st.subheader(\"Vista previa de los datos\")\n",
    "        st.dataframe(df.head(20))\n",
    "        st.write(f\"**Total de registros cargados:** {len(df):,}\")\n",
    "    else:\n",
    "        st.warning(\"No hay datos para mostrar.\")\n"
   ]
  }
 ],
 "metadata": {
  "kernelspec": {
   "display_name": "Diplomado_env",
   "language": "python",
   "name": "python3"
  },
  "language_info": {
   "codemirror_mode": {
    "name": "ipython",
    "version": 3
   },
   "file_extension": ".py",
   "mimetype": "text/x-python",
   "name": "python",
   "nbconvert_exporter": "python",
   "pygments_lexer": "ipython3",
   "version": "3.11.13"
  }
 },
 "nbformat": 4,
 "nbformat_minor": 5
}
